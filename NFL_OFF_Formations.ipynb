{
  "nbformat": 4,
  "nbformat_minor": 0,
  "metadata": {
    "colab": {
      "provenance": [],
      "authorship_tag": "ABX9TyMG1/AkvqvXbi4gpF3lqPsp",
      "include_colab_link": true
    },
    "kernelspec": {
      "name": "python3",
      "display_name": "Python 3"
    },
    "language_info": {
      "name": "python"
    }
  },
  "cells": [
    {
      "cell_type": "markdown",
      "metadata": {
        "id": "view-in-github",
        "colab_type": "text"
      },
      "source": [
        "<a href=\"https://colab.research.google.com/github/PSN-01/NFL-Offensive-Info/blob/main/NFL_OFF_Formations.ipynb\" target=\"_parent\"><img src=\"https://colab.research.google.com/assets/colab-badge.svg\" alt=\"Open In Colab\"/></a>"
      ]
    },
    {
      "cell_type": "code",
      "execution_count": null,
      "metadata": {
        "id": "bOysMt1eZoZM",
        "colab": {
          "base_uri": "https://localhost:8080/"
        },
        "outputId": "84b34823-77be-4e4d-a4ee-60eb044b6b5a",
        "collapsed": true
      },
      "outputs": [
        {
          "output_type": "stream",
          "name": "stdout",
          "text": [
            "Collecting nfl_data_py\n",
            "  Downloading nfl_data_py-0.3.3-py3-none-any.whl.metadata (12 kB)\n",
            "Requirement already satisfied: numpy<2.0,>=1.0 in /usr/local/lib/python3.10/dist-packages (from nfl_data_py) (1.26.4)\n",
            "Collecting pandas<2.0,>=1.0 (from nfl_data_py)\n",
            "  Downloading pandas-1.5.3-cp310-cp310-manylinux_2_17_x86_64.manylinux2014_x86_64.whl.metadata (11 kB)\n",
            "Collecting appdirs>1 (from nfl_data_py)\n",
            "  Downloading appdirs-1.4.4-py2.py3-none-any.whl.metadata (9.0 kB)\n",
            "Collecting fastparquet>0.5 (from nfl_data_py)\n",
            "  Downloading fastparquet-2024.5.0-cp310-cp310-manylinux_2_17_x86_64.manylinux2014_x86_64.whl.metadata (4.1 kB)\n",
            "Collecting cramjam>=2.3 (from fastparquet>0.5->nfl_data_py)\n",
            "  Downloading cramjam-2.9.0-cp310-cp310-manylinux_2_17_x86_64.manylinux2014_x86_64.whl.metadata (4.9 kB)\n",
            "Requirement already satisfied: fsspec in /usr/local/lib/python3.10/dist-packages (from fastparquet>0.5->nfl_data_py) (2024.6.1)\n",
            "Requirement already satisfied: packaging in /usr/local/lib/python3.10/dist-packages (from fastparquet>0.5->nfl_data_py) (24.1)\n",
            "Requirement already satisfied: python-dateutil>=2.8.1 in /usr/local/lib/python3.10/dist-packages (from pandas<2.0,>=1.0->nfl_data_py) (2.8.2)\n",
            "Requirement already satisfied: pytz>=2020.1 in /usr/local/lib/python3.10/dist-packages (from pandas<2.0,>=1.0->nfl_data_py) (2024.2)\n",
            "Requirement already satisfied: six>=1.5 in /usr/local/lib/python3.10/dist-packages (from python-dateutil>=2.8.1->pandas<2.0,>=1.0->nfl_data_py) (1.16.0)\n",
            "Downloading nfl_data_py-0.3.3-py3-none-any.whl (13 kB)\n",
            "Downloading appdirs-1.4.4-py2.py3-none-any.whl (9.6 kB)\n",
            "Downloading fastparquet-2024.5.0-cp310-cp310-manylinux_2_17_x86_64.manylinux2014_x86_64.whl (1.7 MB)\n",
            "\u001b[2K   \u001b[90m━━━━━━━━━━━━━━━━━━━━━━━━━━━━━━━━━━━━━━━━\u001b[0m \u001b[32m1.7/1.7 MB\u001b[0m \u001b[31m30.8 MB/s\u001b[0m eta \u001b[36m0:00:00\u001b[0m\n",
            "\u001b[?25hDownloading pandas-1.5.3-cp310-cp310-manylinux_2_17_x86_64.manylinux2014_x86_64.whl (12.1 MB)\n",
            "\u001b[2K   \u001b[90m━━━━━━━━━━━━━━━━━━━━━━━━━━━━━━━━━━━━━━━━\u001b[0m \u001b[32m12.1/12.1 MB\u001b[0m \u001b[31m66.6 MB/s\u001b[0m eta \u001b[36m0:00:00\u001b[0m\n",
            "\u001b[?25hDownloading cramjam-2.9.0-cp310-cp310-manylinux_2_17_x86_64.manylinux2014_x86_64.whl (2.4 MB)\n",
            "\u001b[2K   \u001b[90m━━━━━━━━━━━━━━━━━━━━━━━━━━━━━━━━━━━━━━━━\u001b[0m \u001b[32m2.4/2.4 MB\u001b[0m \u001b[31m57.7 MB/s\u001b[0m eta \u001b[36m0:00:00\u001b[0m\n",
            "\u001b[?25hInstalling collected packages: appdirs, cramjam, pandas, fastparquet, nfl_data_py\n",
            "  Attempting uninstall: pandas\n",
            "    Found existing installation: pandas 2.2.2\n",
            "    Uninstalling pandas-2.2.2:\n",
            "      Successfully uninstalled pandas-2.2.2\n",
            "\u001b[31mERROR: pip's dependency resolver does not currently take into account all the packages that are installed. This behaviour is the source of the following dependency conflicts.\n",
            "cudf-cu12 24.10.1 requires pandas<2.2.3dev0,>=2.0, but you have pandas 1.5.3 which is incompatible.\n",
            "google-colab 1.0.0 requires pandas==2.2.2, but you have pandas 1.5.3 which is incompatible.\n",
            "mizani 0.11.4 requires pandas>=2.1.0, but you have pandas 1.5.3 which is incompatible.\n",
            "plotnine 0.13.6 requires pandas<3.0.0,>=2.1.0, but you have pandas 1.5.3 which is incompatible.\n",
            "xarray 2024.9.0 requires pandas>=2.1, but you have pandas 1.5.3 which is incompatible.\u001b[0m\u001b[31m\n",
            "\u001b[0mSuccessfully installed appdirs-1.4.4 cramjam-2.9.0 fastparquet-2024.5.0 nfl_data_py-0.3.3 pandas-1.5.3\n"
          ]
        }
      ],
      "source": [
        "#DOWNLOAD THEM FIRST!\n",
        "!pip install nfl_data_py\n",
        "\"\"\"\n",
        "  Available teams starting from the 2016 season:\n",
        "    team_abbr              team_name\n",
        "  0        ARI      Arizona Cardinals\n",
        "  1        ATL        Atlanta Falcons\n",
        "  2        BAL       Baltimore Ravens\n",
        "  3        BUF          Buffalo Bills\n",
        "  4        CAR      Carolina Panthers\n",
        "  5        CHI          Chicago Bears\n",
        "  6        CIN     Cincinnati Bengals\n",
        "  7        CLE       Cleveland Browns\n",
        "  8        DAL         Dallas Cowboys\n",
        "  9        DEN         Denver Broncos\n",
        "  10       DET          Detroit Lions\n",
        "  11        GB      Green Bay Packers\n",
        "  12       HOU         Houston Texans\n",
        "  13       IND     Indianapolis Colts\n",
        "  14       JAX   Jacksonville Jaguars\n",
        "  15        KC     Kansas City Chiefs\n",
        "  16        LA       Los Angeles Rams\n",
        "  17       LAC   Los Angeles Chargers\n",
        "  19        LV      Las Vegas Raiders\n",
        "  20       MIA         Miami Dolphins\n",
        "  21       MIN      Minnesota Vikings\n",
        "  22        NE   New England Patriots\n",
        "  23        NO     New Orleans Saints\n",
        "  24       NYG        New York Giants\n",
        "  25       NYJ          New York Jets\n",
        "  27       PHI    Philadelphia Eagles\n",
        "  28       PIT    Pittsburgh Steelers\n",
        "  30       SEA       Seattle Seahawks\n",
        "  31        SF    San Francisco 49ers\n",
        "  33        TB   Tampa Bay Buccaneers\n",
        "  34       TEN       Tennessee Titans\n",
        "  35       WAS  Washington Commanders\n",
        "\"\"\""
      ]
    },
    {
      "cell_type": "markdown",
      "source": [
        "# ***`TOP 5 MOST USED FORMATIONS BY OFFENSE - SINCE 2016`***"
      ],
      "metadata": {
        "id": "CPoQdBy7efvD"
      }
    },
    {
      "cell_type": "code",
      "source": [
        "import nfl_data_py as nfl\n",
        "\n",
        "# Función para obtener las formaciones ofensivas y los porcentajes de jugadas por pase y carrera\n",
        "def get_top_formations_and_play_percentages(team_abbr, year):\n",
        "    # Importar datos de Play-by-Play para el año seleccionado\n",
        "    pbp_data = nfl.import_pbp_data([year])\n",
        "\n",
        "    # Filtrar datos por el equipo ofensivo seleccionado\n",
        "    team_offense = pbp_data[pbp_data['posteam'] == team_abbr]\n",
        "\n",
        "    # Agrupar por formaciones ofensivas y contar ocurrencias\n",
        "    top_offensive_formations = team_offense['offense_formation'].value_counts().head(5)\n",
        "\n",
        "    # Filtrar solo jugadas de pase y carrera\n",
        "    pbp_filtered = pbp_data[pbp_data['play_type'].isin(['run', 'pass'])]\n",
        "\n",
        "    # Contar el número de jugadas por tipo (carrera o pase) para cada equipo ofensivo\n",
        "    play_counts = pbp_filtered.groupby(['posteam', 'play_type']).size().unstack(fill_value=0)\n",
        "\n",
        "    # Calcular el total de jugadas ofensivas por equipo\n",
        "    play_counts['total_plays'] = play_counts['run'] + play_counts['pass']\n",
        "\n",
        "    # Calcular los porcentajes de jugadas de carrera y pase\n",
        "    play_counts['run_pct'] = (play_counts['run'] / play_counts['total_plays']) * 100\n",
        "    play_counts['pass_pct'] = (play_counts['pass'] / play_counts['total_plays']) * 100\n",
        "\n",
        "    # Retornar las 5 formaciones más usadas y los porcentajes de carrera/pase del equipo seleccionado\n",
        "    return top_offensive_formations, play_counts.loc[team_abbr, ['run_pct', 'pass_pct']]\n",
        "\n",
        "\n",
        "# Obtener entrada del usuario para el equipo y año\n",
        "team_abbr = input(\"\\nEnter the team abbreviation: \")\n",
        "\n",
        "year = int(input(\"Enter the year (2016 - 2024): \"))\n",
        "while year < 2016 or year > 2024:\n",
        "    year = int(input(\"Please enter a valid year between 2016 and 2024: \"))\n",
        "\n",
        "# Obtener formaciones ofensivas y porcentajes de jugadas\n",
        "offensive_formations, play_percentages = get_top_formations_and_play_percentages(team_abbr, year)\n",
        "\n",
        "# Mostrar los resultados\n",
        "print(f\"\\nTop 5 offensive formations for {team_abbr} in {year}:\")\n",
        "print(offensive_formations)\n",
        "\n",
        "print(f\"\\n{team_abbr}'s play percentages in {year}:\")\n",
        "print(f\"Run: {play_percentages['run_pct']:.2f}%\")\n",
        "print(f\"Pass: {play_percentages['pass_pct']:.2f}%\")\n"
      ],
      "metadata": {
        "colab": {
          "base_uri": "https://localhost:8080/"
        },
        "id": "BvV7y2B5aPCF",
        "outputId": "85fd4ac7-de1e-42d0-b3d9-53dc154c2459"
      },
      "execution_count": 8,
      "outputs": [
        {
          "output_type": "stream",
          "name": "stdout",
          "text": [
            "\n",
            "Enter the team abbreviation: KC\n",
            "Enter the year (2016 - 2024): 2018\n",
            "2018 done.\n",
            "Downcasting floats.\n",
            "\n",
            "Top 5 offensive formations for KC in 2018:\n",
            "SHOTGUN       821\n",
            "SINGLEBACK    163\n",
            "EMPTY         105\n",
            "I_FORM         41\n",
            "PISTOL         18\n",
            "Name: offense_formation, dtype: int64\n",
            "\n",
            "KC's play percentages in 2018:\n",
            "Run: 37.93%\n",
            "Pass: 62.07%\n"
          ]
        }
      ]
    }
  ]
}